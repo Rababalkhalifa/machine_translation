{
 "cells": [
  {
   "cell_type": "markdown",
   "metadata": {
    "collapsed": true
   },
   "source": [
    "# Artificial Intelligence Nanodegree\n",
    "## Machine Translation Project\n",
    "In this notebook, sections that end with **'(IMPLEMENTATION)'** in the header indicate that the following blocks of code will require additional functionality which you must provide. Please be sure to read the instructions carefully!\n",
    "\n",
    "## Introduction\n",
    "In this notebook, you will build a deep neural network that functions as part of an end-to-end machine translation pipeline. Your completed pipeline will accept English text as input and return the French translation.\n",
    "\n",
    "- **Preprocess** - You'll convert text to sequence of integers.\n",
    "- **Models** Create models which accepts a sequence of integers as input and returns a probability distribution over possible translations. After learning about the basic types of neural networks that are often used for machine translation, you will engage in your own investigations, to design your own model!\n",
    "- **Prediction** Run the model on English text."
   ]
  },
  {
   "cell_type": "code",
   "execution_count": 20,
   "metadata": {},
   "outputs": [
    {
     "name": "stdout",
     "output_type": "stream",
     "text": [
      "The autoreload extension is already loaded. To reload it, use:\n",
      "  %reload_ext autoreload\n"
     ]
    }
   ],
   "source": [
    "%load_ext autoreload\n",
    "%aimport helper, tests\n",
    "%autoreload 1"
   ]
  },
  {
   "cell_type": "code",
   "execution_count": 21,
   "metadata": {
    "scrolled": true
   },
   "outputs": [],
   "source": [
    "import collections\n",
    "\n",
    "import helper\n",
    "import numpy as np\n",
    "import project_tests as tests\n",
    "\n",
    "from keras.preprocessing.text import Tokenizer\n",
    "from keras.preprocessing.sequence import pad_sequences\n",
    "from keras.models import Model\n",
    "from keras.layers import GRU, Input, Dense, TimeDistributed, Activation, RepeatVector, Bidirectional\n",
    "from keras.layers.embeddings import Embedding\n",
    "from keras.optimizers import Adam\n",
    "from keras.losses import sparse_categorical_crossentropy"
   ]
  },
  {
   "cell_type": "code",
   "execution_count": 22,
   "metadata": {},
   "outputs": [],
   "source": [
    "import datetime\n",
    "import matplotlib.pyplot as plt\n",
    "%matplotlib inline\n",
    "\n",
    "def plot_history(network_history):\n",
    "    plt.figure()\n",
    "    plt.xlabel('Epochs')\n",
    "    plt.ylabel('Loss')\n",
    "    plt.plot(network_history.history['loss'])\n",
    "    plt.plot(network_history.history['val_loss'])\n",
    "    plt.legend(['Training', 'Validation'])\n",
    "\n",
    "    plt.figure()\n",
    "    plt.xlabel('Epochs')\n",
    "    plt.ylabel('Accuracy')\n",
    "    plt.plot(network_history.history['acc'])\n",
    "    plt.plot(network_history.history['val_acc'])\n",
    "    plt.legend(['Training', 'Validation'], loc='lower right')\n",
    "    plt.show()"
   ]
  },
  {
   "cell_type": "code",
   "execution_count": 23,
   "metadata": {},
   "outputs": [
    {
     "name": "stdout",
     "output_type": "stream",
     "text": [
      "Python 3.6.3\r\n"
     ]
    }
   ],
   "source": [
    "!python --version"
   ]
  },
  {
   "cell_type": "markdown",
   "metadata": {},
   "source": [
    "### Verify access to the GPU\n",
    "The following test applies only if you expect to be using a GPU, e.g., while running in a Udacity Workspace or using an AWS instance with GPU support. Run the next cell, and verify that the device_type is \"GPU\".\n",
    "- If the device is not GPU & you are running from a Udacity Workspace, then save your workspace with the icon at the top, then click \"enable\" at the bottom of the workspace.\n",
    "- If the device is not GPU & you are running from an AWS instance, then refer to the cloud computing instructions in the classroom to verify your setup steps."
   ]
  },
  {
   "cell_type": "code",
   "execution_count": 24,
   "metadata": {},
   "outputs": [
    {
     "name": "stdout",
     "output_type": "stream",
     "text": [
      "[name: \"/cpu:0\"\n",
      "device_type: \"CPU\"\n",
      "memory_limit: 268435456\n",
      "locality {\n",
      "}\n",
      "incarnation: 7389884545456833960\n",
      ", name: \"/gpu:0\"\n",
      "device_type: \"GPU\"\n",
      "memory_limit: 357433344\n",
      "locality {\n",
      "  bus_id: 1\n",
      "}\n",
      "incarnation: 13132657789169979829\n",
      "physical_device_desc: \"device: 0, name: Tesla K80, pci bus id: 0000:00:04.0\"\n",
      "]\n"
     ]
    }
   ],
   "source": [
    "from tensorflow.python.client import device_lib\n",
    "print(device_lib.list_local_devices())"
   ]
  },
  {
   "cell_type": "markdown",
   "metadata": {},
   "source": [
    "## Dataset\n",
    "We begin by investigating the dataset that will be used to train and evaluate your pipeline.  The most common datasets used for machine translation are from [WMT](http://www.statmt.org/).  However, that will take a long time to train a neural network on.  We'll be using a dataset we created for this project that contains a small vocabulary.  You'll be able to train your model in a reasonable time with this dataset.\n",
    "### Load Data\n",
    "The data is located in `data/small_vocab_en` and `data/small_vocab_fr`. The `small_vocab_en` file contains English sentences with their French translations in the `small_vocab_fr` file. Load the English and French data from these files from running the cell below."
   ]
  },
  {
   "cell_type": "code",
   "execution_count": 25,
   "metadata": {},
   "outputs": [
    {
     "name": "stdout",
     "output_type": "stream",
     "text": [
      "Dataset Loaded\n"
     ]
    }
   ],
   "source": [
    "# Load English data\n",
    "english_sentences = helper.load_data('data/small_vocab_en')\n",
    "# Load French data\n",
    "french_sentences = helper.load_data('data/small_vocab_fr')\n",
    "\n",
    "print('Dataset Loaded')"
   ]
  },
  {
   "cell_type": "markdown",
   "metadata": {},
   "source": [
    "### Files\n",
    "Each line in `small_vocab_en` contains an English sentence with the respective translation in each line of `small_vocab_fr`.  View the first two lines from each file."
   ]
  },
  {
   "cell_type": "code",
   "execution_count": 26,
   "metadata": {},
   "outputs": [
    {
     "name": "stdout",
     "output_type": "stream",
     "text": [
      "small_vocab_en Line 1:  new jersey is sometimes quiet during autumn , and it is snowy in april .\n",
      "small_vocab_fr Line 1:  new jersey est parfois calme pendant l' automne , et il est neigeux en avril .\n",
      "small_vocab_en Line 2:  the united states is usually chilly during july , and it is usually freezing in november .\n",
      "small_vocab_fr Line 2:  les états-unis est généralement froid en juillet , et il gèle habituellement en novembre .\n"
     ]
    }
   ],
   "source": [
    "for sample_i in range(2):\n",
    "    print('small_vocab_en Line {}:  {}'.format(sample_i + 1, english_sentences[sample_i]))\n",
    "    print('small_vocab_fr Line {}:  {}'.format(sample_i + 1, french_sentences[sample_i]))"
   ]
  },
  {
   "cell_type": "markdown",
   "metadata": {},
   "source": [
    "From looking at the sentences, you can see they have been preprocessed already.  The puncuations have been delimited using spaces. All the text have been converted to lowercase.  This should save you some time, but the text requires more preprocessing.\n",
    "### Vocabulary\n",
    "The complexity of the problem is determined by the complexity of the vocabulary.  A more complex vocabulary is a more complex problem.  Let's look at the complexity of the dataset we'll be working with."
   ]
  },
  {
   "cell_type": "code",
   "execution_count": 27,
   "metadata": {},
   "outputs": [
    {
     "name": "stdout",
     "output_type": "stream",
     "text": [
      "1823250 English words.\n",
      "227 unique English words.\n",
      "10 Most common words in the English dataset:\n",
      "\"is\" \",\" \".\" \"in\" \"it\" \"during\" \"the\" \"but\" \"and\" \"sometimes\"\n",
      "\n",
      "1961295 French words.\n",
      "355 unique French words.\n",
      "10 Most common words in the French dataset:\n",
      "\"est\" \".\" \",\" \"en\" \"il\" \"les\" \"mais\" \"et\" \"la\" \"parfois\"\n",
      "\n",
      "Number of samples: 137861\n",
      "Number of unique input tokens: 227\n",
      "Number of unique output tokens: 355\n",
      "Max sequence length for inputs: 102\n",
      "Max sequence length for outputs: 114\n"
     ]
    }
   ],
   "source": [
    "english_words_counter = collections.Counter([word for sentence in english_sentences for word in sentence.split()])\n",
    "french_words_counter = collections.Counter([word for sentence in french_sentences for word in sentence.split()])\n",
    "\n",
    "print('{} English words.'.format(len([word for sentence in english_sentences for word in sentence.split()])))\n",
    "print('{} unique English words.'.format(len(english_words_counter)))\n",
    "print('10 Most common words in the English dataset:')\n",
    "print('\"' + '\" \"'.join(list(zip(*english_words_counter.most_common(10)))[0]) + '\"')\n",
    "print()\n",
    "print('{} French words.'.format(len([word for sentence in french_sentences for word in sentence.split()])))\n",
    "print('{} unique French words.'.format(len(french_words_counter)))\n",
    "print('10 Most common words in the French dataset:')\n",
    "print('\"' + '\" \"'.join(list(zip(*french_words_counter.most_common(10)))[0]) + '\"')\n",
    "\n",
    "num_encoder_tokens = len(english_words_counter)\n",
    "num_decoder_tokens = len(french_words_counter)\n",
    "max_encoder_seq_length = max([len(txt) for txt in english_sentences])\n",
    "max_decoder_seq_length = max([len(txt) for txt in french_sentences])\n",
    "\n",
    "print()\n",
    "print('Number of samples:', len(english_sentences))\n",
    "print('Number of unique input tokens:', num_encoder_tokens)\n",
    "print('Number of unique output tokens:', num_decoder_tokens)\n",
    "print('Max sequence length for inputs:', max_encoder_seq_length)\n",
    "print('Max sequence length for outputs:', max_decoder_seq_length)"
   ]
  },
  {
   "cell_type": "markdown",
   "metadata": {},
   "source": [
    "For comparison, _Alice's Adventures in Wonderland_ contains 2,766 unique words of a total of 15,500 words.\n",
    "## Preprocess\n",
    "For this project, you won't use text data as input to your model. Instead, you'll convert the text into sequences of integers using the following preprocess methods:\n",
    "1. Tokenize the words into ids\n",
    "2. Add padding to make all the sequences the same length.\n",
    "\n",
    "Time to start preprocessing the data...\n",
    "### Tokenize (IMPLEMENTATION)\n",
    "For a neural network to predict on text data, it first has to be turned into data it can understand. Text data like \"dog\" is a sequence of ASCII character encodings.  Since a neural network is a series of multiplication and addition operations, the input data needs to be number(s).\n",
    "\n",
    "We can turn each character into a number or each word into a number.  These are called character and word ids, respectively.  Character ids are used for character level models that generate text predictions for each character.  A word level model uses word ids that generate text predictions for each word.  Word level models tend to learn better, since they are lower in complexity, so we'll use those.\n",
    "\n",
    "Turn each sentence into a sequence of words ids using Keras's [`Tokenizer`](https://keras.io/preprocessing/text/#tokenizer) function. Use this function to tokenize `english_sentences` and `french_sentences` in the cell below.\n",
    "\n",
    "Running the cell will run `tokenize` on sample data and show output for debugging."
   ]
  },
  {
   "cell_type": "code",
   "execution_count": 28,
   "metadata": {},
   "outputs": [
    {
     "name": "stdout",
     "output_type": "stream",
     "text": [
      "{'the': 1, 'quick': 2, 'a': 3, 'brown': 4, 'fox': 5, 'jumps': 6, 'over': 7, 'lazy': 8, 'dog': 9, 'by': 10, 'jove': 11, 'my': 12, 'study': 13, 'of': 14, 'lexicography': 15, 'won': 16, 'prize': 17, 'this': 18, 'is': 19, 'short': 20, 'sentence': 21}\n",
      "\n",
      "Sequence 1 in x\n",
      "  Input:  The quick brown fox jumps over the lazy dog .\n",
      "  Output: [1, 2, 4, 5, 6, 7, 1, 8, 9]\n",
      "Sequence 2 in x\n",
      "  Input:  By Jove , my quick study of lexicography won a prize .\n",
      "  Output: [10, 11, 12, 2, 13, 14, 15, 16, 3, 17]\n",
      "Sequence 3 in x\n",
      "  Input:  This is a short sentence .\n",
      "  Output: [18, 19, 3, 20, 21]\n"
     ]
    }
   ],
   "source": [
    "def tokenize(x):\n",
    "    \"\"\"\n",
    "    Tokenize x\n",
    "    :param x: List of sentences/strings to be tokenized\n",
    "    :return: Tuple of (tokenized x data, tokenizer used to tokenize x)\n",
    "    \"\"\"\n",
    "    # TODO: Implement\n",
    "    x_tk = Tokenizer()\n",
    "    x_tk.fit_on_texts(x)\n",
    "    \n",
    "    return x_tk.texts_to_sequences(x), x_tk\n",
    "\n",
    "tests.test_tokenize(tokenize)\n",
    "\n",
    "# Tokenize Example output\n",
    "text_sentences = [\n",
    "    'The quick brown fox jumps over the lazy dog .',\n",
    "    'By Jove , my quick study of lexicography won a prize .',\n",
    "    'This is a short sentence .']\n",
    "text_tokenized, text_tokenizer = tokenize(text_sentences)\n",
    "print(text_tokenizer.word_index)\n",
    "print()\n",
    "for sample_i, (sent, token_sent) in enumerate(zip(text_sentences, text_tokenized)):\n",
    "    print('Sequence {} in x'.format(sample_i + 1))\n",
    "    print('  Input:  {}'.format(sent))\n",
    "    print('  Output: {}'.format(token_sent))"
   ]
  },
  {
   "cell_type": "markdown",
   "metadata": {},
   "source": [
    "### Padding (IMPLEMENTATION)\n",
    "When batching the sequence of word ids together, each sequence needs to be the same length.  Since sentences are dynamic in length, we can add padding to the end of the sequences to make them the same length.\n",
    "\n",
    "Make sure all the English sequences have the same length and all the French sequences have the same length by adding padding to the **end** of each sequence using Keras's [`pad_sequences`](https://keras.io/preprocessing/sequence/#pad_sequences) function."
   ]
  },
  {
   "cell_type": "code",
   "execution_count": 29,
   "metadata": {},
   "outputs": [
    {
     "name": "stdout",
     "output_type": "stream",
     "text": [
      "Sequence 1 in x\n",
      "  Input:  [1 2 4 5 6 7 1 8 9]\n",
      "  Output: [1 2 4 5 6 7 1 8 9 0]\n",
      "Sequence 2 in x\n",
      "  Input:  [10 11 12  2 13 14 15 16  3 17]\n",
      "  Output: [10 11 12  2 13 14 15 16  3 17]\n",
      "Sequence 3 in x\n",
      "  Input:  [18 19  3 20 21]\n",
      "  Output: [18 19  3 20 21  0  0  0  0  0]\n"
     ]
    }
   ],
   "source": [
    "def pad(x, length=None):\n",
    "    \"\"\"\n",
    "    Pad x\n",
    "    :param x: List of sequences.\n",
    "    :param length: Length to pad the sequence to.  If None, use length of longest sequence in x.\n",
    "    :return: Padded numpy array of sequences\n",
    "    \"\"\"\n",
    "    # TODO: Implement\n",
    "    if length is None:\n",
    "        length = max([len(sentence) for sentence in x])\n",
    "#     print (length)\n",
    "    numpy_array = pad_sequences(x, maxlen=length, padding='post')\n",
    "#     print(numpy_array)\n",
    "    return numpy_array\n",
    "\n",
    "tests.test_pad(pad)\n",
    "\n",
    "# Pad Tokenized output\n",
    "test_pad = pad(text_tokenized)\n",
    "for sample_i, (token_sent, pad_sent) in enumerate(zip(text_tokenized, test_pad)):\n",
    "    print('Sequence {} in x'.format(sample_i + 1))\n",
    "    print('  Input:  {}'.format(np.array(token_sent)))\n",
    "    print('  Output: {}'.format(pad_sent))"
   ]
  },
  {
   "cell_type": "markdown",
   "metadata": {},
   "source": [
    "### Preprocess Pipeline\n",
    "Your focus for this project is to build neural network architecture, so we won't ask you to create a preprocess pipeline.  Instead, we've provided you with the implementation of the `preprocess` function."
   ]
  },
  {
   "cell_type": "code",
   "execution_count": 30,
   "metadata": {},
   "outputs": [
    {
     "name": "stdout",
     "output_type": "stream",
     "text": [
      "Data Preprocessed\n",
      "Max English sentence length: 15\n",
      "Max French sentence length: 21\n",
      "English vocabulary size: 199\n",
      "French vocabulary size: 344\n"
     ]
    }
   ],
   "source": [
    "def preprocess(x, y):\n",
    "    \"\"\"\n",
    "    Preprocess x and y\n",
    "    :param x: Feature List of sentences\n",
    "    :param y: Label List of sentences\n",
    "    :return: Tuple of (Preprocessed x, Preprocessed y, x tokenizer, y tokenizer)\n",
    "    \"\"\"\n",
    "    preprocess_x, x_tk = tokenize(x)\n",
    "    preprocess_y, y_tk = tokenize(y)\n",
    "\n",
    "    preprocess_x = pad(preprocess_x)\n",
    "    preprocess_y = pad(preprocess_y)\n",
    "\n",
    "    # Keras's sparse_categorical_crossentropy function requires the labels to be in 3 dimensions\n",
    "    preprocess_y = preprocess_y.reshape(*preprocess_y.shape, 1)\n",
    "\n",
    "    return preprocess_x, preprocess_y, x_tk, y_tk\n",
    "\n",
    "preproc_english_sentences, preproc_french_sentences, english_tokenizer, french_tokenizer =\\\n",
    "    preprocess(english_sentences, french_sentences)\n",
    "    \n",
    "max_english_sequence_length = preproc_english_sentences.shape[1]\n",
    "max_french_sequence_length = preproc_french_sentences.shape[1]\n",
    "english_vocab_size = len(english_tokenizer.word_index)\n",
    "french_vocab_size = len(french_tokenizer.word_index)\n",
    "\n",
    "print('Data Preprocessed')\n",
    "print(\"Max English sentence length:\", max_english_sequence_length)\n",
    "print(\"Max French sentence length:\", max_french_sequence_length)\n",
    "print(\"English vocabulary size:\", english_vocab_size)\n",
    "print(\"French vocabulary size:\", french_vocab_size)"
   ]
  },
  {
   "cell_type": "code",
   "execution_count": 31,
   "metadata": {
    "scrolled": true
   },
   "outputs": [
    {
     "data": {
      "text/plain": [
       "(137861, 137861)"
      ]
     },
     "execution_count": 31,
     "metadata": {},
     "output_type": "execute_result"
    }
   ],
   "source": [
    "len(preproc_english_sentences), len(preproc_french_sentences)"
   ]
  },
  {
   "cell_type": "code",
   "execution_count": 32,
   "metadata": {},
   "outputs": [
    {
     "data": {
      "text/plain": [
       "(array([17, 23,  1,  8, 67,  4, 39,  7,  3,  1, 55,  2, 44,  0,  0], dtype=int32),\n",
       " 35)"
      ]
     },
     "execution_count": 32,
     "metadata": {},
     "output_type": "execute_result"
    }
   ],
   "source": [
    "preproc_english_sentences[0],preproc_french_sentences[0][0][0]"
   ]
  },
  {
   "cell_type": "code",
   "execution_count": 74,
   "metadata": {},
   "outputs": [],
   "source": [
    "from keras.layers import GRU, Input, Dense, TimeDistributed,LSTM\n",
    "from keras.models import Model,Sequential\n",
    "from keras.layers import Activation\n",
    "from keras.optimizers import Adam\n",
    "from keras.losses import sparse_categorical_crossentropy\n",
    "from keras.layers import Embedding, LSTM, Dense, Dropout\n",
    "from keras.layers import Bidirectional\n",
    "\n",
    "from keras.layers import Flatten\n",
    "from keras.layers import Conv2D, MaxPooling2D"
   ]
  },
  {
   "cell_type": "code",
   "execution_count": 34,
   "metadata": {},
   "outputs": [],
   "source": [
    "index_to_words = {id: word for word, id in english_tokenizer.word_index.items()}\n",
    "index_to_words[0] = ''\n",
    "sentence = [index_to_words.get(int(Ids)) for Ids in preproc_english_sentences[:1][0] if index_to_words.get(int(Ids))  is not None]"
   ]
  },
  {
   "cell_type": "markdown",
   "metadata": {},
   "source": [
    "## Models\n",
    "In this section, you will experiment with various neural network architectures.\n",
    "You will begin by training four relatively simple architectures.\n",
    "- Model 1 is a simple RNN\n",
    "- Model 2 is a RNN with Embedding\n",
    "- Model 3 is a Bidirectional RNN\n",
    "- Model 4 is an optional Encoder-Decoder RNN\n",
    "\n",
    "After experimenting with the four simple architectures, you will construct a deeper architecture that is designed to outperform all four models.\n",
    "### Ids Back to Text\n",
    "The neural network will be translating the input to words ids, which isn't the final form we want.  We want the French translation.  The function `logits_to_text` will bridge the gab between the logits from the neural network to the French translation.  You'll be using this function to better understand the output of the neural network."
   ]
  },
  {
   "cell_type": "code",
   "execution_count": 35,
   "metadata": {},
   "outputs": [
    {
     "name": "stdout",
     "output_type": "stream",
     "text": [
      "`logits_to_text` function loaded.\n"
     ]
    }
   ],
   "source": [
    "def logits_to_text(logits, tokenizer):\n",
    "    \"\"\"\n",
    "    Turn logits from a neural network into text using the tokenizer\n",
    "    :param logits: Logits from a neural network\n",
    "    :param tokenizer: Keras Tokenizer fit on the labels\n",
    "    :return: String that represents the text of the logits\n",
    "    \"\"\"\n",
    "    index_to_words = {id: word for word, id in tokenizer.word_index.items()}\n",
    "    index_to_words[0] = '<PAD>'\n",
    "\n",
    "    return ' '.join([index_to_words[prediction] for prediction in np.argmax(logits, 1)])\n",
    "\n",
    "print('`logits_to_text` function loaded.')"
   ]
  },
  {
   "cell_type": "code",
   "execution_count": 36,
   "metadata": {},
   "outputs": [],
   "source": [
    "bach_siz=1024\n",
    "num_epoch=10\n",
    "val_siz=0.2"
   ]
  },
  {
   "cell_type": "markdown",
   "metadata": {},
   "source": [
    "### Model 1: RNN (IMPLEMENTATION)\n",
    "![RNN](images/rnn.png)\n",
    "A basic RNN model is a good baseline for sequence data.  In this model, you'll build a RNN that translates English to French."
   ]
  },
  {
   "cell_type": "code",
   "execution_count": 141,
   "metadata": {
    "scrolled": true
   },
   "outputs": [
    {
     "name": "stdout",
     "output_type": "stream",
     "text": [
      "(137861, 21, 1)\n",
      "_________________________________________________________________\n",
      "Layer (type)                 Output Shape              Param #   \n",
      "=================================================================\n",
      "input_118 (InputLayer)       (None, 21, 1)             0         \n",
      "_________________________________________________________________\n",
      "gru_84 (GRU)                 (None, 21, 345)           359145    \n",
      "_________________________________________________________________\n",
      "dropout_40 (Dropout)         (None, 21, 345)           0         \n",
      "_________________________________________________________________\n",
      "gru_85 (GRU)                 (None, 21, 21)            23121     \n",
      "_________________________________________________________________\n",
      "time_distributed_88 (TimeDis (None, 21, 345)           7590      \n",
      "=================================================================\n",
      "Total params: 389,856\n",
      "Trainable params: 389,856\n",
      "Non-trainable params: 0\n",
      "_________________________________________________________________\n",
      "Train on 110288 samples, validate on 27573 samples\n",
      "Epoch 1/10\n",
      "110288/110288 [==============================] - 23s 211us/step - loss: 3.7273 - acc: 0.4162 - val_loss: 3.0427 - val_acc: 0.4266\n",
      "Epoch 2/10\n",
      "110288/110288 [==============================] - 16s 149us/step - loss: 2.9635 - acc: 0.4450 - val_loss: 2.7577 - val_acc: 0.4599\n",
      "Epoch 3/10\n",
      "110288/110288 [==============================] - 16s 149us/step - loss: 2.6836 - acc: 0.4669 - val_loss: 2.6502 - val_acc: 0.4784\n",
      "Epoch 4/10\n",
      "110288/110288 [==============================] - 16s 149us/step - loss: 2.6175 - acc: 0.4858 - val_loss: 2.5922 - val_acc: 0.4836\n",
      "Epoch 5/10\n",
      "110288/110288 [==============================] - 16s 149us/step - loss: 2.5259 - acc: 0.4969 - val_loss: 2.4065 - val_acc: 0.5163\n",
      "Epoch 6/10\n",
      "110288/110288 [==============================] - 16s 149us/step - loss: 2.4219 - acc: 0.5135 - val_loss: 2.2902 - val_acc: 0.5322\n",
      "Epoch 7/10\n",
      "110288/110288 [==============================] - 16s 149us/step - loss: 2.3307 - acc: 0.5275 - val_loss: 2.3275 - val_acc: 0.5112\n",
      "Epoch 8/10\n",
      "110288/110288 [==============================] - 16s 149us/step - loss: 2.3654 - acc: 0.5075 - val_loss: 2.2908 - val_acc: 0.5193\n",
      "Epoch 9/10\n",
      "110288/110288 [==============================] - 16s 149us/step - loss: 2.3833 - acc: 0.5067 - val_loss: 2.2700 - val_acc: 0.5257\n",
      "Epoch 10/10\n",
      "110288/110288 [==============================] - 16s 149us/step - loss: 2.2975 - acc: 0.5242 - val_loss: 2.2855 - val_acc: 0.5328\n"
     ]
    }
   ],
   "source": [
    "def simple_model(input_shape, output_sequence_length, english_vocab_size, french_vocab_size):\n",
    "    \"\"\"\n",
    "    Build and train a basic RNN on x and y    \n",
    "    \n",
    "    :param input_shape: Tuple of input shape\n",
    "    :param output_sequence_length: Length of output sequence\n",
    "    :param english_vocab_size: Number of unique English words in the dataset\n",
    "    :param french_vocab_size: Number of unique French words in the dataset\n",
    "    :return: Keras model built, but not trained\n",
    "    \"\"\"\n",
    "    #-- Hyperparameters\n",
    "    learning_rate = 0.005\n",
    "    opt = Adam(lr=learning_rate)\n",
    "    \n",
    "    # -- Model Architecture \n",
    "#     # -- acc: 0.2893 E=2\n",
    "#     inputs = Input(shape=input_shape[1:])\n",
    "#     hidden_layer = LSTM(32, return_sequences=True)(inputs)\n",
    "#     outputs = TimeDistributed(Dense(french_vocab_size))(hidden_layer)\n",
    "    \n",
    "    # -- Model Architecture \n",
    "#     # very low acc: 0.0679\n",
    "#     inputs = Input(shape=input_shape[1:])\n",
    "#     outputs = Dense(french_vocab_size, activation='tanh')(inputs)\n",
    "    \n",
    "#     # -- acc: 0.3848 E=2\n",
    "#     inputs = Input(shape=input_shape[1:])\n",
    "#     hidden_layer = GRU(32, return_sequences=True)(inputs)\n",
    "#     outputs = TimeDistributed(Dense(french_vocab_size))(hidden_layer)\n",
    "\n",
    "#     # -- acc: 0.4199 0. E=2  ---- acc: 0.4574  E=10\n",
    "#     inputs = Input(shape=input_shape[1:])\n",
    "#     hidden_layer = GRU(64, return_sequences=True)(inputs)\n",
    "#     outputs = TimeDistributed(Dense(french_vocab_size))(hidden_layer)\n",
    "\n",
    "#     # -- acc: 0.4082 0. E=2 \n",
    "#     inputs = Input(shape=input_shape[1:])\n",
    "#     hidden_layer = GRU(128, return_sequences=True)(inputs)\n",
    "#     hidden_layer = GRU(64, return_sequences=True)(hidden_layer)\n",
    "#     outputs = Dense(french_vocab_size,activation='tanh')(hidden_layer)\n",
    "\n",
    "# #     # -- acc: 0.4572 0. E=2  acc: 0.4380 E=10 + decreases over time\n",
    "#     inputs = Input(shape=input_shape[1:])\n",
    "#     hidden_layer = GRU(french_vocab_size, return_sequences=True)(inputs)\n",
    "#     outputs = TimeDistributed(Dense(french_vocab_size))(hidden_layer)\n",
    "    \n",
    "    #LSTM(french_vocab_size, return_sequences=True)\n",
    "# #     # -- acc: 0.4592 E=3 dropout=.3 increasing or decreasing is not good\n",
    "    inputs = Input(shape=input_shape[1:])\n",
    "    hidden_layer = GRU(french_vocab_size, return_sequences=True)(inputs)\n",
    "    hidden_layer =  Dropout(0.4)(hidden_layer) \n",
    "    hidden_layer = GRU(output_sequence_length, return_sequences=True)(hidden_layer)\n",
    "    outputs = TimeDistributed(Dense(french_vocab_size))(hidden_layer)\n",
    "\n",
    "        \n",
    "# #     # -- acc: 0.4443 E=100\n",
    "#     model = Sequential()\n",
    "#     model.add(LSTM(input_shape[1], input_shape=input_shape[1:]))\n",
    "#     model.add(RepeatVector(output_sequence_length))\n",
    "#     model.add(LSTM(output_sequence_length, return_sequences=True))\n",
    "#     model.add(TimeDistributed(Dense(french_vocab_size)))\n",
    "\n",
    "#     # -- acc: 0.4077 0. E=2 \n",
    "#     inputs = Input(shape=input_shape[1:])\n",
    "#     hidden_layer = GRU(256, return_sequences=True)(inputs)\n",
    "#     outputs = TimeDistributed(Dense(french_vocab_size))(hidden_layer)\n",
    "\n",
    "#     # -- acc: decreasing acc 0. E=2 \n",
    "#     inputs = Input(shape=input_shape[1:])\n",
    "#     hidden_layer = GRU(512, return_sequences=True)(inputs)\n",
    "#     outputs = TimeDistributed(Dense(french_vocab_size))(hidden_layer)\n",
    "\n",
    "#     # -- acc: 0.0270 E=2\n",
    "#     inputs = Input(shape=input_shape[1:])\n",
    "#     h = Dense(512, activation='softmax')(inputs)\n",
    "#     outputs = Dense(french_vocab_size, activation='softmax')(h)\n",
    "    \n",
    "    \n",
    "    #setup the model \n",
    "    model = Model(inputs=inputs, outputs=outputs)\n",
    "\n",
    "    model.compile(loss=sparse_categorical_crossentropy, optimizer=opt, metrics=['accuracy'])\n",
    "\n",
    "    return model\n",
    "\n",
    "tests.test_simple_model(simple_model)\n",
    "\n",
    "\n",
    "# Reshaping the input to work with a basic RNN\n",
    "# tmp_x = pad(preproc_english_sentences, max_english_sequence_length)\n",
    "# tmp_x = tmp_x.reshape((-1, preproc_english_sentences.shape[-1]))\n",
    "\n",
    "tmp_x = pad(preproc_english_sentences, max_french_sequence_length)\n",
    "tmp_x = tmp_x.reshape((-1, preproc_french_sentences.shape[-2],1))\n",
    "\n",
    "print(tmp_x.shape)\n",
    "# Train the neural network\n",
    "simple_rnn_model = simple_model(tmp_x.shape, max_french_sequence_length, english_vocab_size+1, french_vocab_size+1)\n",
    "\n",
    "\n",
    "simple_rnn_model.summary()\n",
    "simple_rnn_model_history = simple_rnn_model.fit(tmp_x, preproc_french_sentences, batch_size=bach_siz, epochs=10, validation_split=val_siz)"
   ]
  },
  {
   "cell_type": "code",
   "execution_count": 143,
   "metadata": {},
   "outputs": [
    {
     "data": {
      "image/png": "[encoded data removed]",
      "text/plain": [
       "<matplotlib.figure.Figure at 0x7faf56a70198>"
      ]
     },
     "metadata": {
      "needs_background": "light"
     },
     "output_type": "display_data"
    },
    {
     "data": {
      "image/png": "[encoded data removed]",
      "text/plain": [
       "<matplotlib.figure.Figure at 0x7faf56a14550>"
      ]
     },
     "metadata": {
      "needs_background": "light"
     },
     "output_type": "display_data"
    },
    {
     "name": "stdout",
     "output_type": "stream",
     "text": [
      "English Sentence:  new jersey is sometimes quiet during autumn and it is snowy in april  \n",
      "French Sentence: l' jersey est est est en en mais il il il il en en <PAD> <PAD> <PAD> <PAD> <PAD> <PAD> <PAD>\n"
     ]
    }
   ],
   "source": [
    "plot_history(simple_rnn_model_history)\n",
    "\n",
    "print (\"English Sentence: \",' '.join(sentence))\n",
    "\n",
    "# Print prediction(s)\n",
    "print(\"French Sentence:\" , logits_to_text(simple_rnn_model.predict(tmp_x[:1])[0], french_tokenizer))\n",
    "\n",
    "# from IPython.display import SVG\n",
    "# from keras.utils import model_to_dot\n",
    "\n",
    "# SVG(model_to_dot(simple_rnn_model).create(prog='dot', format='svg'))"
   ]
  },
  {
   "cell_type": "markdown",
   "metadata": {},
   "source": [
    "### Model 2: Embedding (IMPLEMENTATION)\n",
    "![RNN](images/embedding.png)\n",
    "You've turned the words into ids, but there's a better representation of a word.  This is called word embeddings.  An embedding is a vector representation of the word that is close to similar words in n-dimensional space, where the n represents the size of the embedding vectors.\n",
    "\n",
    "In this model, you'll create a RNN model using embedding."
   ]
  },
  {
   "cell_type": "code",
   "execution_count": 144,
   "metadata": {},
   "outputs": [
    {
     "name": "stdout",
     "output_type": "stream",
     "text": [
      "_________________________________________________________________\n",
      "Layer (type)                 Output Shape              Param #   \n",
      "=================================================================\n",
      "input_120 (InputLayer)       (None, 21)                0         \n",
      "_________________________________________________________________\n",
      "embedding_10 (Embedding)     (None, 21, 345)           69000     \n",
      "_________________________________________________________________\n",
      "gru_87 (GRU)                 (None, 21, 345)           715185    \n",
      "_________________________________________________________________\n",
      "dense_148 (Dense)            (None, 21, 345)           119370    \n",
      "=================================================================\n",
      "Total params: 903,555\n",
      "Trainable params: 903,555\n",
      "Non-trainable params: 0\n",
      "_________________________________________________________________\n",
      "Train on 110288 samples, validate on 27573 samples\n",
      "Epoch 1/10\n",
      "110288/110288 [==============================] - 26s 233us/step - loss: 2.8268 - acc: 0.4819 - val_loss: 1.7503 - val_acc: 0.5834\n",
      "Epoch 2/10\n",
      "110288/110288 [==============================] - 19s 168us/step - loss: 1.2745 - acc: 0.6956 - val_loss: 0.9202 - val_acc: 0.7700\n",
      "Epoch 3/10\n",
      "110288/110288 [==============================] - 19s 168us/step - loss: 0.7229 - acc: 0.8050 - val_loss: 0.5752 - val_acc: 0.8335\n",
      "Epoch 4/10\n",
      "110288/110288 [==============================] - 19s 168us/step - loss: 0.5044 - acc: 0.8495 - val_loss: 0.4358 - val_acc: 0.8698\n",
      "Epoch 5/10\n",
      "110288/110288 [==============================] - 19s 168us/step - loss: 0.3947 - acc: 0.8795 - val_loss: 0.3673 - val_acc: 0.8841\n",
      "Epoch 6/10\n",
      "110288/110288 [==============================] - 18s 167us/step - loss: 0.3357 - acc: 0.8944 - val_loss: 0.3145 - val_acc: 0.8998\n",
      "Epoch 7/10\n",
      "110288/110288 [==============================] - 18s 167us/step - loss: 0.2949 - acc: 0.9056 - val_loss: 0.3117 - val_acc: 0.9014\n",
      "Epoch 8/10\n",
      "110288/110288 [==============================] - 19s 168us/step - loss: 0.2688 - acc: 0.9131 - val_loss: 0.2610 - val_acc: 0.9155\n",
      "Epoch 9/10\n",
      "110288/110288 [==============================] - 18s 167us/step - loss: 0.2474 - acc: 0.9191 - val_loss: 0.2441 - val_acc: 0.9202\n",
      "Epoch 10/10\n",
      "110288/110288 [==============================] - 18s 168us/step - loss: 0.2327 - acc: 0.9232 - val_loss: 0.2300 - val_acc: 0.9249\n"
     ]
    }
   ],
   "source": [
    "# from keras.models import Sequential\n",
    "\n",
    "\n",
    "# from gensim.models import Word2Vec\n",
    "# import multiprocessing \n",
    "\n",
    "def embed_model(input_shape, output_sequence_length, english_vocab_size, french_vocab_size):\n",
    "    \"\"\"\n",
    "    Build and train a RNN model using word embedding on x and y\n",
    "    :param input_shape: Tuple of input shape\n",
    "    :param output_sequence_length: Length of output sequence\n",
    "    :param english_vocab_size: Number of unique English words in the dataset\n",
    "    :param french_vocab_size: Number of unique French words in the dataset\n",
    "    :return: Keras model built, but not trained\n",
    "    \"\"\"\n",
    "# acc: 0.7421\n",
    "#     input_layer = Input(shape=input_shape[1:])\n",
    "#     rnn = Embedding(english_vocab_size, french_vocab_size, input_length=output_sequence_length)(input_layer)\n",
    "#     rnn = LSTM(french_vocab_size, return_sequences=True)(rnn)\n",
    "#     rnn = Dense(french_vocab_size, activation='softmax')(rnn)\n",
    "\n",
    "# # acc: 0.5444  - incremental validation\n",
    "#     input_layer = Input(shape=input_shape[1:])\n",
    "#     rnn = Embedding(english_vocab_size,max_english_sequence_length, input_length=output_sequence_length)(input_layer)\n",
    "#     rnn = GRU(french_vocab_size, return_sequences=True)(rnn)\n",
    "#     rnn = Dense(french_vocab_size, activation='softmax')(rnn)\n",
    "\n",
    "# acc: 0.8010\n",
    "    input_layer = Input(shape=input_shape[1:])\n",
    "    rnn = Embedding(english_vocab_size, french_vocab_size, input_length=output_sequence_length)(input_layer)\n",
    "    rnn = GRU(french_vocab_size, return_sequences=True)(rnn)\n",
    "    rnn = Dense(french_vocab_size, activation='softmax')(rnn)\n",
    "\n",
    "# # acc: 0.8255 \n",
    "#     input_layer = Input(shape=input_shape[1:])\n",
    "#     rnn = Embedding(english_vocab_size, french_vocab_size, input_length=output_sequence_length)(input_layer)\n",
    "#     rnn = GRU(512, return_sequences=True)(rnn)\n",
    "#     rnn = Dense(french_vocab_size, activation='softmax')(rnn)\n",
    "\n",
    "    bd_model = Model(inputs=input_layer, outputs=rnn)\n",
    "    bd_model.compile(loss=sparse_categorical_crossentropy, optimizer=Adam(.001), metrics=['accuracy'])\n",
    "\n",
    "    \n",
    "    return bd_model\n",
    "\n",
    "\n",
    "tests.test_embed_model(embed_model)\n",
    "\n",
    "# TODO: Reshape the input\n",
    "tmp_x = pad(preproc_english_sentences, max_french_sequence_length)\n",
    "tmp_x = tmp_x.reshape((-1, preproc_french_sentences.shape[-2]))\n",
    "\n",
    "# tmp_x = pad(preproc_english_sentences, max_english_sequence_length)\n",
    "# tmp_x = tmp_x.reshape((-1, preproc_english_sentences.shape[-1]))\n",
    "\n",
    "# Train the neural network\n",
    "ebd_model = embed_model( tmp_x.shape,max_french_sequence_length,english_vocab_size+1,french_vocab_size+1)\n",
    "\n",
    "ebd_model.summary()\n",
    "\n",
    "# TODO: Train the neural network\n",
    "ebd_model_history = ebd_model.fit(tmp_x, preproc_french_sentences, batch_size=bach_siz, epochs=10, validation_split=val_siz)"
   ]
  },
  {
   "cell_type": "code",
   "execution_count": 145,
   "metadata": {},
   "outputs": [
    {
     "data": {
      "image/png": "[encoded data removed]",
      "text/plain": [
       "<matplotlib.figure.Figure at 0x7faf6c53b898>"
      ]
     },
     "metadata": {
      "needs_background": "light"
     },
     "output_type": "display_data"
    },
    {
     "data": {
      "image/png": "[encoded data removed]",
      "text/plain": [
       "<matplotlib.figure.Figure at 0x7faf55bef588>"
      ]
     },
     "metadata": {
      "needs_background": "light"
     },
     "output_type": "display_data"
    },
    {
     "name": "stdout",
     "output_type": "stream",
     "text": [
      "English Sentence:  new jersey is sometimes quiet during autumn and it is snowy in april  \n",
      "French Sentence: new jersey est parfois calme en l' et il est neigeux neigeux en avril <PAD> <PAD> <PAD> <PAD> <PAD> <PAD> <PAD>\n"
     ]
    }
   ],
   "source": [
    "plot_history(ebd_model_history)\n",
    "\n",
    "print (\"English Sentence: \",' '.join(sentence))\n",
    "\n",
    "# Print prediction(s)\n",
    "print(\"French Sentence:\" , logits_to_text(ebd_model.predict(tmp_x[:1])[0], french_tokenizer))\n",
    "\n",
    "# from IPython.display import SVG\n",
    "# from keras.utils import model_to_dot\n",
    "\n",
    "# SVG(model_to_dot(ebd_model).create(prog='dot', format='svg'))"
   ]
  },
  {
   "cell_type": "markdown",
   "metadata": {},
   "source": [
    "### Model 3: Bidirectional RNNs (IMPLEMENTATION)\n",
    "![RNN](images/bidirectional.png)\n",
    "One restriction of a RNN is that it can't see the future input, only the past.  This is where bidirectional recurrent neural networks come in.  They are able to see the future data."
   ]
  },
  {
   "cell_type": "code",
   "execution_count": null,
   "metadata": {},
   "outputs": [],
   "source": [
    "\n",
    "# -------------------------------------\n",
    "#     input_layer = Input(shape=input_shape[1:])    \n",
    "#     bd = Embedding(french_vocab_size, english_vocab_size, input_length=output_sequence_length, trainable=False,name = 'layer_embedding')(input_layer)\n",
    "\n",
    "    #https://stackoverflow.com/questions/49855404/keras-bidirectional-lstm-layer-grouping\n",
    "#     rnn = Bidirectional(LSTM(output_sequence_length//2, return_sequences=True, dropout=0.25, recurrent_dropout=0.1),merge_mode='sum')(bd)\n",
    "\n",
    "#     rnn = TimeDistributed(Dense(french_vocab_size))(bd)\n",
    "    \n",
    "#     rnn = Bidirectional(LSTM(french_vocab_size//2, return_sequences=True, dropout=0.25, recurrent_dropout=0.1),merge_mode='concat')(bd)\n",
    "\n",
    "#     rnn = Dense(french_vocab_size, activation='softmax')(rnn)\n",
    "\n",
    "#     rnn = GRU(french_vocab_size, return_sequences=True)(rnn)\n",
    "#     rnn = Dense(french_vocab_size, activation='softmax')(rnn)"
   ]
  },
  {
   "cell_type": "code",
   "execution_count": 192,
   "metadata": {
    "scrolled": false
   },
   "outputs": [
    {
     "name": "stdout",
     "output_type": "stream",
     "text": [
      "_________________________________________________________________\n",
      "Layer (type)                 Output Shape              Param #   \n",
      "=================================================================\n",
      "input_181 (InputLayer)       (None, 21)                0         \n",
      "_________________________________________________________________\n",
      "embedding_53 (Embedding)     (None, 21, 345)           69000     \n",
      "_________________________________________________________________\n",
      "dense_194 (Dense)            (None, 21, 21)            7266      \n",
      "_________________________________________________________________\n",
      "gru_110 (GRU)                (None, 21, 345)           379845    \n",
      "_________________________________________________________________\n",
      "bidirectional_42 (Bidirectio (None, 21, 345)           1430370   \n",
      "_________________________________________________________________\n",
      "dense_195 (Dense)            (None, 21, 345)           119370    \n",
      "=================================================================\n",
      "Total params: 2,005,851\n",
      "Trainable params: 2,005,851\n",
      "Non-trainable params: 0\n",
      "_________________________________________________________________\n",
      "Train on 110288 samples, validate on 27573 samples\n",
      "Epoch 1/10\n",
      "110288/110288 [==============================] - 54s 490us/step - loss: 2.3676 - acc: 0.5072 - val_loss: 1.3802 - val_acc: 0.6389\n",
      "Epoch 2/10\n",
      "110288/110288 [==============================] - 42s 384us/step - loss: 0.9816 - acc: 0.7239 - val_loss: 0.7000 - val_acc: 0.7878\n",
      "Epoch 3/10\n",
      "110288/110288 [==============================] - 42s 384us/step - loss: 0.5419 - acc: 0.8323 - val_loss: 0.4153 - val_acc: 0.8669\n",
      "Epoch 4/10\n",
      "110288/110288 [==============================] - 42s 383us/step - loss: 0.3420 - acc: 0.8906 - val_loss: 0.2840 - val_acc: 0.9116\n",
      "Epoch 5/10\n",
      "110288/110288 [==============================] - 42s 383us/step - loss: 0.2379 - acc: 0.9238 - val_loss: 0.2245 - val_acc: 0.9275\n",
      "Epoch 6/10\n",
      "110288/110288 [==============================] - 42s 384us/step - loss: 0.1901 - acc: 0.9371 - val_loss: 0.1870 - val_acc: 0.9373\n",
      "Epoch 7/10\n",
      "110288/110288 [==============================] - 42s 384us/step - loss: 0.1601 - acc: 0.9467 - val_loss: 0.1480 - val_acc: 0.9513\n",
      "Epoch 8/10\n",
      "110288/110288 [==============================] - 42s 384us/step - loss: 0.1363 - acc: 0.9548 - val_loss: 0.1428 - val_acc: 0.9534\n",
      "Epoch 9/10\n",
      "110288/110288 [==============================] - 42s 384us/step - loss: 0.1125 - acc: 0.9625 - val_loss: 0.1175 - val_acc: 0.9617\n",
      "Epoch 10/10\n",
      "110288/110288 [==============================] - 42s 383us/step - loss: 0.0927 - acc: 0.9702 - val_loss: 0.1028 - val_acc: 0.9674\n"
     ]
    }
   ],
   "source": [
    "def bd_model(input_shape, output_sequence_length, english_vocab_size, french_vocab_size):\n",
    "    \"\"\"\n",
    "    Build and train a bidirectional RNN model on x and y\n",
    "    :param input_shape: Tuple of input shape\n",
    "    :param output_sequence_length: Length of output sequence\n",
    "    :param english_vocab_size: Number of unique English words in the dataset\n",
    "    :param french_vocab_size: Number of unique French words in the dataset\n",
    "    :return: Keras model built, but not trained\n",
    "    \"\"\"\n",
    "        \n",
    "# # -------------------------------------   \n",
    "#     input_layer = Input(shape=input_shape[1:])\n",
    "#     rnn = Embedding(english_vocab_size, french_vocab_size, input_length=output_sequence_length)(input_layer)\n",
    "#     rnn = Dense(french_vocab_size, activation='softmax')(rnn)\n",
    "#     rnn = Bidirectional(LSTM(french_vocab_size//2, return_sequences=True, dropout=0.25, recurrent_dropout=0.1),merge_mode='concat')(rnn)\n",
    "    \n",
    "#     model = Model(inputs=input_layer, outputs=rnn)\n",
    "#     model.compile(loss=sparse_categorical_crossentropy, optimizer=Adam(0.01), metrics=['accuracy'])\n",
    "# # ------------------------------------\n",
    "\n",
    "# #-------------------------------------  \n",
    "# # acc: 0.5612\n",
    "#     input_layer = Input(shape=input_shape[1:])\n",
    "#     rnn = Embedding(512, 512, input_length=output_sequence_length)(input_layer)\n",
    "#     rnn = Dense(512, activation='softmax')(rnn)\n",
    "#     rnn = Bidirectional(LSTM(french_vocab_size//2, return_sequences=True),merge_mode='concat')(rnn)\n",
    "    \n",
    "#     model = Model(inputs=input_layer, outputs=rnn)\n",
    "#     model.compile(loss=sparse_categorical_crossentropy, optimizer=Adam(0.005), metrics=['accuracy'])\n",
    "# # ------------------------------------\n",
    "\n",
    "#     input_layer = Input(shape=input_shape[1:])\n",
    "#     rnn = Embedding(output_sequence_length, english_vocab_size, input_length=output_sequence_length)(input_layer)\n",
    "#     rnn = Dense(output_sequence_length, activation='softmax')(rnn)\n",
    "#     rnn = Bidirectional(GRU(french_vocab_size, return_sequences=True),merge_mode='sum')(rnn)\n",
    "    \n",
    "#     model = Model(inputs=input_layer, outputs=rnn)\n",
    "#     model.compile(loss=sparse_categorical_crossentropy, optimizer=Adam(0.005), metrics=['accuracy'])\n",
    "\n",
    "# # -------------------------------------    \n",
    "    \n",
    "    input_layer = Input(shape=input_shape[1:])\n",
    "    rnn = Embedding(english_vocab_size, french_vocab_size, input_length=output_sequence_length)(input_layer)\n",
    "    rnn = Dense(output_sequence_length, activation='softmax')(rnn)\n",
    "    rnn = GRU(french_vocab_size, return_sequences=True)(rnn)\n",
    "    rnn = Bidirectional(GRU(french_vocab_size, return_sequences=True),merge_mode='sum')(rnn)\n",
    "    rnn = Dense(french_vocab_size, activation='softmax')(rnn)\n",
    "    \n",
    "    model = Model(inputs=input_layer, outputs=rnn)\n",
    "    model.compile(loss=sparse_categorical_crossentropy, optimizer=Adam(0.005), metrics=['accuracy'])\n",
    "\n",
    "# -------------------------------------\n",
    "\n",
    "#     model.summary()\n",
    "    return model\n",
    "tests.test_bd_model(bd_model)\n",
    "\n",
    "tmp_x = pad(preproc_english_sentences, max_french_sequence_length)\n",
    "# print(tmp_x.shape)\n",
    "tmp_x = tmp_x.reshape((-1, preproc_french_sentences.shape[-2]))\n",
    "# print(tmp_x.shape)\n",
    "\n",
    "# print(\"max_french_sequence_length,english_vocab_size,french_vocab_size\")\n",
    "# print(max_french_sequence_length,english_vocab_size,french_vocab_size)\n",
    "\n",
    "# print(max_english_sequence_length)\n",
    "\n",
    "\n",
    "# TODO: Train and Print prediction(s)\n",
    "bid_model = bd_model( tmp_x.shape,max_french_sequence_length,english_vocab_size+1,french_vocab_size+1)\n",
    "\n",
    "bid_model.summary()\n",
    "\n",
    "# TODO: Train the neural network\n",
    "bid_model_history = bid_model.fit(tmp_x, preproc_french_sentences,batch_size=bach_siz, epochs=10, validation_split=val_siz)"
   ]
  },
  {
   "cell_type": "code",
   "execution_count": 193,
   "metadata": {
    "scrolled": true
   },
   "outputs": [
    {
     "data": {
      "image/png": "[encoded data removed]",
      "text/plain": [
       "<matplotlib.figure.Figure at 0x7faf0cad0438>"
      ]
     },
     "metadata": {
      "needs_background": "light"
     },
     "output_type": "display_data"
    },
    {
     "data": {
      "image/png": "[encoded data removed]",
      "text/plain": [
       "<matplotlib.figure.Figure at 0x7faf06499fd0>"
      ]
     },
     "metadata": {
      "needs_background": "light"
     },
     "output_type": "display_data"
    },
    {
     "name": "stdout",
     "output_type": "stream",
     "text": [
      "English Sentence:  new jersey is sometimes quiet during autumn and it is snowy in april  \n",
      "French Sentence: new jersey est parfois calme pendant l' automne et il est neigeux en avril <PAD> <PAD> <PAD> <PAD> <PAD> <PAD> <PAD>\n"
     ]
    }
   ],
   "source": [
    "plot_history(bid_model_history)\n",
    "\n",
    "print (\"English Sentence: \",' '.join(sentence))\n",
    "\n",
    "# Print prediction(s)\n",
    "print(\"French Sentence:\" , logits_to_text(bid_model.predict(tmp_x[:1])[0], french_tokenizer))\n",
    "\n",
    "# from IPython.display import SVG\n",
    "# from keras.utils import model_to_dot\n",
    "\n",
    "# SVG(model_to_dot(ebd_model).create(prog='dot', format='svg'))"
   ]
  },
  {
   "cell_type": "markdown",
   "metadata": {},
   "source": [
    "### Model 4: Encoder-Decoder (OPTIONAL)\n",
    "Time to look at encoder-decoder models.  This model is made up of an encoder and decoder. The encoder creates a matrix representation of the sentence.  The decoder takes this matrix as input and predicts the translation as output.\n",
    "\n",
    "Create an encoder-decoder model in the cell below."
   ]
  },
  {
   "cell_type": "code",
   "execution_count": 22,
   "metadata": {},
   "outputs": [],
   "source": [
    "# # def encdec_model(input_shape, output_sequence_length, english_vocab_size, french_vocab_size):\n",
    "# #     \"\"\"\n",
    "# #     Build and train an encoder-decoder model on x and y\n",
    "# #     :param input_shape: Tuple of input shape\n",
    "# #     :param output_sequence_length: Length of output sequence\n",
    "# #     :param english_vocab_size: Number of unique English words in the dataset\n",
    "# #     :param french_vocab_size: Number of unique French words in the dataset\n",
    "# #     :return: Keras model built, but not trained\n",
    "# #     \"\"\"    \n",
    "\n",
    "# #     return \n",
    "\n",
    "\n",
    "# # TODO: Reshape the input\n",
    "# tmp_x = pad(preproc_english_sentences, max_french_sequence_length)\n",
    "# tmp_x = tmp_x.reshape((-1, preproc_french_sentences.shape[-2]))\n",
    "\n",
    "# # tmp_x = pad(preproc_english_sentences, max_french_sequence_length)\n",
    "# # tmp_x = tmp_x.reshape((-1, preproc_french_sentences.shape[-2], 1))\n",
    "\n",
    "# # tests.test_encdec_model(encdec_model)\n",
    "\n",
    "\n",
    "# # OPTIONAL: Train and Print prediction(s)\n",
    "# # Take one sequence (part of the training set)\n",
    "# # for trying out decoding.\n",
    "# for seq_index in range(3):\n",
    "#     # Take one sequence (part of the training set)\n",
    "#     # for trying out decoding.\n",
    "#     input_seq = encoder_input_data[seq_index:seq_index+1]\n",
    "#     decoded_sentence = decode_sequence(input_seq)\n",
    "#     print('-')\n",
    "#     print(input_seq)\n",
    "#     print('Input sentence:', input_texts[seq_index])\n",
    "#     print('Decoded sentence:', decoded_sentence)"
   ]
  },
  {
   "cell_type": "markdown",
   "metadata": {},
   "source": [
    "### Model 5: Custom (IMPLEMENTATION)\n",
    "Use everything you learned from the previous models to create a model that incorporates embedding and a bidirectional rnn into one model."
   ]
  },
  {
   "cell_type": "code",
   "execution_count": 23,
   "metadata": {},
   "outputs": [],
   "source": [
    "from keras.models import Sequential\n",
    "from keras.layers.recurrent import SimpleRNN"
   ]
  },
  {
   "cell_type": "code",
   "execution_count": 243,
   "metadata": {},
   "outputs": [
    {
     "name": "stdout",
     "output_type": "stream",
     "text": [
      "final model input shape (137861, 15)\n",
      "output_sequence_length= 21\n",
      "english_vocab_size= 199\n",
      "french_vocab_size= 344\n",
      "_________________________________________________________________\n",
      "Layer (type)                 Output Shape              Param #   \n",
      "=================================================================\n",
      "input_231 (InputLayer)       (None, 15)                0         \n",
      "_________________________________________________________________\n",
      "embedding_101 (Embedding)    (None, 21, 344)           68456     \n",
      "_________________________________________________________________\n",
      "bidirectional_89 (Bidirectio (None, 42)                46116     \n",
      "_________________________________________________________________\n",
      "repeat_vector_79 (RepeatVect (None, 21, 42)            0         \n",
      "_________________________________________________________________\n",
      "bidirectional_90 (Bidirectio (None, 21, 688)           798768    \n",
      "_________________________________________________________________\n",
      "time_distributed_112 (TimeDi (None, 21, 344)           237016    \n",
      "=================================================================\n",
      "Total params: 1,150,356\n",
      "Trainable params: 1,150,356\n",
      "Non-trainable params: 0\n",
      "_________________________________________________________________\n",
      "Final Model Loaded\n"
     ]
    }
   ],
   "source": [
    "def model_final(input_shape, output_sequence_length, english_vocab_size, french_vocab_size):\n",
    "    \"\"\"\n",
    "    Build and train a model that incorporates embedding, encoder-decoder, and bidirectional RNN on x and y\n",
    "    :param input_shape: Tuple of input shape\n",
    "    :param output_sequence_length: Length of output sequence\n",
    "    :param english_vocab_size: Number of unique English words in the dataset\n",
    "    :param french_vocab_size: Number of unique French words in the dataset\n",
    "    :return: Keras model built, but not trained\n",
    "    \"\"\"\n",
    "    # TODO: Implement\n",
    "    print(\"final model input shape\",input_shape)\n",
    "    print(\"output_sequence_length=\",output_sequence_length)\n",
    "    print(\"english_vocab_size=\",english_vocab_size)\n",
    "    print(\"french_vocab_size=\",french_vocab_size)\n",
    "# -------------------------------------\n",
    "    input_layer = Input(shape=input_shape[1:])\n",
    "    \n",
    "#     rnn = Embedding(input_shape[1], input_shape[1], input_length=output_sequence_length)(input_layer)\n",
    "    rnn = Embedding(english_vocab_size, french_vocab_size, input_length=output_sequence_length)(input_layer)\n",
    "\n",
    "    rnn = Bidirectional(GRU(output_sequence_length))(rnn)\n",
    "    #Adapter to fit 2D output to required GRU 3D input shape \n",
    "    rnn = RepeatVector(output_sequence_length)(rnn)\n",
    "    \n",
    "    rnn = Bidirectional(GRU(french_vocab_size, return_sequences=True))(rnn)\n",
    "    rnn = TimeDistributed(Dense(french_vocab_size, activation='softmax'))(rnn)\n",
    "\n",
    "    model = Model(inputs=input_layer, outputs=rnn)\n",
    "\n",
    "    model.compile(loss=sparse_categorical_crossentropy, optimizer=Adam(0.01),metrics=['accuracy'])\n",
    "\n",
    "# # -------------------------------------    \n",
    "    \n",
    "#     input_layer = Input(shape=input_shape[1:])\n",
    "\n",
    "#     rnn = Embedding(english_vocab_size, french_vocab_size, input_length=output_sequence_length)(input_layer)\n",
    "\n",
    "#     rnn = Dense(output_sequence_length, activation='softmax')(rnn)\n",
    "\n",
    "#     rnn = GRU(french_vocab_size, return_sequences=True)(rnn)\n",
    "#     rnn = Bidirectional(GRU(french_vocab_size, return_sequences=True),merge_mode='sum')(rnn)\n",
    "\n",
    "#     rnn = Dense(french_vocab_size, activation='softmax')(rnn)\n",
    "\n",
    "#     model = Model(inputs=input_layer, outputs=rnn)\n",
    "#     model.compile(loss=sparse_categorical_crossentropy, optimizer=Adam(0.01), metrics=['accuracy'])\n",
    "\n",
    "# -------------------------------------\n",
    "    \n",
    "    model.summary()\n",
    "\n",
    "# ------------------------------------\n",
    "    \n",
    "              \n",
    "    return model\n",
    "tests.test_model_final(model_final)\n",
    "\n",
    "\n",
    "print('Final Model Loaded')\n",
    "\n",
    "# # # # TODO: Train the final model\n",
    "# # # # TODO: Reshape the input\n",
    "# print()\n",
    "# print(\"x orginal\",preproc_english_sentences.shape)\n",
    "# tmp_x = pad(preproc_english_sentences, max_english_sequence_length)\n",
    "# print(\"x after padding\",tmp_x.shape)\n",
    "# tmp_x = tmp_x.reshape((-1, preproc_english_sentences.shape[-1],1))\n",
    "# print(\"x after reshape\",tmp_x.shape)\n",
    "# print(\"y orginal\",preproc_french_sentences.shape)\n",
    "# tmp_y = preproc_french_sentences.reshape((-1, preproc_french_sentences.shape[-2],1))\n",
    "# print(\"y after reshape\",tmp_y.shape)\n",
    "# print()\n",
    "\n",
    "# # # TODO: Reshape the input\n",
    "# # # tmp_x = pad(preproc_english_sentences, max_french_sequence_length)\n",
    "# # # tmp_x = tmp_x.reshape((-1, preproc_french_sentences.shape[-2]))\n",
    "\n",
    "# # # tmp_x = pad(preproc_english_sentences, max_french_sequence_length)\n",
    "# # # tmp_x = tmp_x.reshape((-1, preproc_french_sentences.shape[-2],))\n",
    "# # print(\"max_english_sequence_length\",max_english_sequence_length)\n",
    "# # print(tmp_x.shape)\n",
    "# # # # # TODO: Train and Print prediction(s)\n",
    "# f_model = model_final( preproc_english_sentences.shape ,max_french_sequence_length,english_vocab_size,french_vocab_size)\n",
    "# # model.summary()\n",
    "# # # f_model.summary()\n",
    "# # # # print(tmp_x.shape)\n",
    "\n",
    "\n",
    "# # # # # TODO: Train the neural network\n",
    "# f_model.fit(preproc_english_sentences, tmp_y , batch_size=1024, epochs=3, validation_split=0.2)"
   ]
  },
  {
   "cell_type": "markdown",
   "metadata": {},
   "source": [
    "## Prediction (IMPLEMENTATION)"
   ]
  },
  {
   "cell_type": "code",
   "execution_count": 245,
   "metadata": {
    "scrolled": true
   },
   "outputs": [
    {
     "name": "stdout",
     "output_type": "stream",
     "text": [
      "final model input shape (137861, 15)\n",
      "output_sequence_length= 21\n",
      "english_vocab_size= 200\n",
      "french_vocab_size= 345\n",
      "_________________________________________________________________\n",
      "Layer (type)                 Output Shape              Param #   \n",
      "=================================================================\n",
      "input_233 (InputLayer)       (None, 15)                0         \n",
      "_________________________________________________________________\n",
      "embedding_103 (Embedding)    (None, 21, 345)           69000     \n",
      "_________________________________________________________________\n",
      "bidirectional_93 (Bidirectio (None, 42)                46242     \n",
      "_________________________________________________________________\n",
      "repeat_vector_81 (RepeatVect (None, 21, 42)            0         \n",
      "_________________________________________________________________\n",
      "bidirectional_94 (Bidirectio (None, 21, 690)           803160    \n",
      "_________________________________________________________________\n",
      "time_distributed_114 (TimeDi (None, 21, 345)           238395    \n",
      "=================================================================\n",
      "Total params: 1,156,797\n",
      "Trainable params: 1,156,797\n",
      "Non-trainable params: 0\n",
      "_________________________________________________________________\n",
      "Train on 110288 samples, validate on 27573 samples\n",
      "Epoch 1/20\n",
      "110288/110288 [==============================] - 50s 449us/step - loss: 2.0693 - acc: 0.5278 - val_loss: 1.2498 - val_acc: 0.6610\n",
      "Epoch 2/20\n",
      "110288/110288 [==============================] - 32s 294us/step - loss: 1.0046 - acc: 0.7145 - val_loss: 0.7889 - val_acc: 0.7710\n",
      "Epoch 3/20\n",
      "110288/110288 [==============================] - 32s 294us/step - loss: 0.6520 - acc: 0.8080 - val_loss: 0.5153 - val_acc: 0.8459\n",
      "Epoch 4/20\n",
      "110288/110288 [==============================] - 32s 294us/step - loss: 0.4558 - acc: 0.8649 - val_loss: 0.3671 - val_acc: 0.8919\n",
      "Epoch 5/20\n",
      "110288/110288 [==============================] - 32s 294us/step - loss: 0.2695 - acc: 0.9203 - val_loss: 0.2366 - val_acc: 0.9294\n",
      "Epoch 6/20\n",
      "110288/110288 [==============================] - 32s 294us/step - loss: 0.2249 - acc: 0.9319 - val_loss: 0.1941 - val_acc: 0.9417\n",
      "Epoch 7/20\n",
      "110288/110288 [==============================] - 32s 294us/step - loss: 0.1658 - acc: 0.9499 - val_loss: 0.1634 - val_acc: 0.9500\n",
      "Epoch 8/20\n",
      "110288/110288 [==============================] - 32s 295us/step - loss: 0.1403 - acc: 0.9572 - val_loss: 0.1419 - val_acc: 0.9564\n",
      "Epoch 9/20\n",
      "110288/110288 [==============================] - 32s 294us/step - loss: 0.1393 - acc: 0.9568 - val_loss: 0.1750 - val_acc: 0.9475\n",
      "Epoch 10/20\n",
      "110288/110288 [==============================] - 32s 294us/step - loss: 0.1243 - acc: 0.9617 - val_loss: 0.1245 - val_acc: 0.9620\n",
      "Epoch 11/20\n",
      "110288/110288 [==============================] - 32s 294us/step - loss: 0.1177 - acc: 0.9637 - val_loss: 0.1362 - val_acc: 0.9591\n",
      "Epoch 12/20\n",
      "110288/110288 [==============================] - 32s 294us/step - loss: 0.1063 - acc: 0.9669 - val_loss: 0.1231 - val_acc: 0.9627\n",
      "Epoch 13/20\n",
      "110288/110288 [==============================] - 32s 294us/step - loss: 0.0996 - acc: 0.9689 - val_loss: 0.1146 - val_acc: 0.9651\n",
      "Epoch 14/20\n",
      "110288/110288 [==============================] - 32s 294us/step - loss: 0.0925 - acc: 0.9711 - val_loss: 0.1174 - val_acc: 0.9654\n",
      "Epoch 15/20\n",
      "110288/110288 [==============================] - 32s 294us/step - loss: 0.0928 - acc: 0.9710 - val_loss: 0.1034 - val_acc: 0.9683\n",
      "Epoch 16/20\n",
      "110288/110288 [==============================] - 32s 294us/step - loss: 0.1110 - acc: 0.9656 - val_loss: 0.1152 - val_acc: 0.9647\n",
      "Epoch 17/20\n",
      "110288/110288 [==============================] - 32s 294us/step - loss: 0.0908 - acc: 0.9717 - val_loss: 0.1110 - val_acc: 0.9661\n",
      "Epoch 18/20\n",
      "110288/110288 [==============================] - 32s 294us/step - loss: 0.0872 - acc: 0.9728 - val_loss: 0.1013 - val_acc: 0.9694\n",
      "Epoch 19/20\n",
      "110288/110288 [==============================] - 32s 294us/step - loss: 0.0808 - acc: 0.9746 - val_loss: 0.1170 - val_acc: 0.9649\n",
      "Epoch 20/20\n",
      "110288/110288 [==============================] - 32s 294us/step - loss: 0.0805 - acc: 0.9749 - val_loss: 0.1019 - val_acc: 0.9695\n",
      "Training time: 0:11:08.135440\n",
      "Test score: 0.0755054571726\n",
      "Test accuracy: 0.976523634046\n"
     ]
    },
    {
     "data": {
      "image/png": "[encoded data removed]",
      "text/plain": [
       "<matplotlib.figure.Figure at 0x7fae96f7c908>"
      ]
     },
     "metadata": {
      "needs_background": "light"
     },
     "output_type": "display_data"
    },
    {
     "data": {
      "image/png": "[encoded data removed]",
      "text/plain": [
       "<matplotlib.figure.Figure at 0x7fae96a99c88>"
      ]
     },
     "metadata": {
      "needs_background": "light"
     },
     "output_type": "display_data"
    },
    {
     "name": "stdout",
     "output_type": "stream",
     "text": [
      "Sample 1:\n",
      "il a vu un vieux camion jaune <PAD> <PAD> <PAD> <PAD> <PAD> <PAD> <PAD> <PAD> <PAD> <PAD> <PAD> <PAD> <PAD> <PAD>\n",
      "Il a vu un vieux camion jaune\n",
      "Sample 2:\n",
      "new jersey est parfois calme pendant l' automne et il est neigeux en avril <PAD> <PAD> <PAD> <PAD> <PAD> <PAD> <PAD>\n",
      "new jersey est parfois calme pendant l' automne et il est neigeux en avril <PAD> <PAD> <PAD> <PAD> <PAD> <PAD> <PAD>\n"
     ]
    }
   ],
   "source": [
    "def final_predictions(x, y, x_tk, y_tk):\n",
    "    \"\"\"\n",
    "    Gets predictions using the final model\n",
    "    :param x: Preprocessed English data\n",
    "    :param y: Preprocessed French data\n",
    "    :param x_tk: English tokenizer\n",
    "    :param y_tk: French tokenizer\n",
    "    \"\"\"\n",
    "    now = datetime.datetime.now\n",
    "    \n",
    "#     tmp_x = pad(x, max_french_sequence_length)\n",
    "#     tmp_x = tmp_x.reshape((-1, y.shape[-2]))\n",
    "\n",
    "    model = model_final(x.shape, y.shape[1] , english_vocab_size + 1, french_vocab_size + 1)\n",
    "    \n",
    "    t = now()\n",
    "    network_history  = model.fit(x, y, batch_size=bach_siz, epochs=20, validation_split=val_siz)\n",
    "    print('Training time: %s' % (now() - t))\n",
    "    \n",
    "    score = model.evaluate(x, y, verbose=0)\n",
    "    print('Test score:', score[0])\n",
    "    print('Test accuracy:', score[1])\n",
    "    \n",
    "    plot_history(network_history)    \n",
    "    \n",
    "    \n",
    "    ## DON'T EDIT ANYTHING BELOW THIS LINE\n",
    "    y_id_to_word = {value: key for key, value in y_tk.word_index.items()}\n",
    "    y_id_to_word[0] = '<PAD>'\n",
    "\n",
    "    sentence = 'he saw a old yellow truck'\n",
    "    sentence = [x_tk.word_index[word] for word in sentence.split()]\n",
    "    sentence = pad_sequences([sentence], maxlen=x.shape[-1], padding='post')\n",
    "    sentences = np.array([sentence[0], x[0]])\n",
    "    predictions = model.predict(sentences,len(sentences))\n",
    "\n",
    "    print('Sample 1:')\n",
    "    print(' '.join([y_id_to_word[np.argmax(x)] for x in predictions[0]]))\n",
    "    print('Il a vu un vieux camion jaune')\n",
    "    print('Sample 2:')\n",
    "    print(' '.join([y_id_to_word[np.argmax(x)] for x in predictions[1]]))\n",
    "    print(' '.join([y_id_to_word[np.max(x)] for x in y[0]]))\n",
    "\n",
    "final_predictions(preproc_english_sentences, preproc_french_sentences, english_tokenizer, french_tokenizer)"
   ]
  },
  {
   "cell_type": "code",
   "execution_count": 49,
   "metadata": {},
   "outputs": [],
   "source": [
    "#ref: https://wizardforcel.gitbooks.io/deep-learning-keras-tensorflow/content/2.3%20Introduction%20to%20Keras.html"
   ]
  },
  {
   "cell_type": "markdown",
   "metadata": {},
   "source": [
    "## Submission\n",
    "When you're ready to submit, complete the following steps:\n",
    "1. Review the [rubric](https://review.udacity.com/#!/rubrics/1004/view) to ensure your submission meets all requirements to pass\n",
    "2. Generate an HTML version of this notebook\n",
    "\n",
    "  - Run the next cell to attempt automatic generation (this is the recommended method in Workspaces)\n",
    "  - Navigate to **FILE -> Download as -> HTML (.html)**\n",
    "  - Manually generate a copy using `nbconvert` from your shell terminal\n",
    "```\n",
    "$ pip install nbconvert\n",
    "$ python -m nbconvert machine_translation.ipynb\n",
    "```\n",
    "  \n",
    "3. Submit the project\n",
    "\n",
    "  - If you are in a Workspace, simply click the \"Submit Project\" button (bottom towards the right)\n",
    "  \n",
    "  - Otherwise, add the following files into a zip archive and submit them \n",
    "  - `helper.py`\n",
    "  - `machine_translation.ipynb`\n",
    "  - `machine_translation.html`\n",
    "    - You can export the notebook by navigating to **File -> Download as -> HTML (.html)**."
   ]
  },
  {
   "cell_type": "code",
   "execution_count": 246,
   "metadata": {},
   "outputs": [
    {
     "data": {
      "text/plain": [
       "['[NbConvertApp] Converting notebook machine_translation.ipynb to html',\n",
       " '[NbConvertApp] Writing 508034 bytes to machine_translation.html',\n",
       " '[NbConvertApp] Converting notebook machine_translation-zh.ipynb to html',\n",
       " '[NbConvertApp] Writing 328614 bytes to machine_translation-zh.html',\n",
       " '[NbConvertApp] Converting notebook Untitled.ipynb to html',\n",
       " '[NbConvertApp] Writing 274770 bytes to Untitled.html']"
      ]
     },
     "execution_count": 246,
     "metadata": {},
     "output_type": "execute_result"
    }
   ],
   "source": [
    "!!python -m nbconvert *.ipynb"
   ]
  },
  {
   "cell_type": "markdown",
   "metadata": {},
   "source": [
    "## Optional Enhancements\n",
    "\n",
    "This project focuses on learning various network architectures for machine translation, but we don't evaluate the models according to best practices by splitting the data into separate test & training sets -- so the model accuracy is overstated. Use the [`sklearn.model_selection.train_test_split()`](http://scikit-learn.org/stable/modules/generated/sklearn.model_selection.train_test_split.html) function to create separate training & test datasets, then retrain each of the models using only the training set and evaluate the prediction accuracy using the hold out test set. Does the \"best\" model change?"
   ]
  }
 ],
 "metadata": {
  "kernelspec": {
   "display_name": "Python 3",
   "language": "python",
   "name": "python3"
  },
  "language_info": {
   "codemirror_mode": {
    "name": "ipython",
    "version": 3
   },
   "file_extension": ".py",
   "mimetype": "text/x-python",
   "name": "python",
   "nbconvert_exporter": "python",
   "pygments_lexer": "ipython3",
   "version": "3.6.3"
  }
 },
 "nbformat": 4,
 "nbformat_minor": 1
}
